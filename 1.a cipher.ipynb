{
 "cells": [
  {
   "cell_type": "markdown",
   "id": "a7c0d4fb",
   "metadata": {},
   "source": [
    "1. A) The Atbash cipher is an encryption method in which each letter of a word is replaced with its \"mirror\" letter in the alphabet: A <=> Z; B <=> Y; C <=> X; etc.\n",
    "\n",
    "Create a function that takes a string and applies the Atbash cipher to it.\n"
   ]
  },
  {
   "cell_type": "code",
   "execution_count": 28,
   "id": "b0dc98f3",
   "metadata": {},
   "outputs": [
    {
     "name": "stdout",
     "output_type": "stream",
     "text": [
      "Enter string : absd\n",
      "cipher string : ZYHW\n"
     ]
    }
   ],
   "source": [
    "def cipher(s):\n",
    "    return \"\".join(chr(155 - ord(c)) for c in s)\n",
    "\n",
    "s = input(\"Enter string : \").upper()\n",
    "\n",
    "print(f\"cipher string : {cipher(s)}\")"
   ]
  },
  {
   "cell_type": "markdown",
   "id": "e1d8316b",
   "metadata": {},
   "source": [
    "B) An identity matrix is defined as a square matrix with 1s running from the top left of the square to the bottom right. The rest are 0s. The identity matrix has applications ranging from machine learning to the general theory of relativity.\n",
    "\n",
    "Create a function that takes an integer n and returns the identity matrix of n x n dimensions. For this challenge, if the integer is negative, return the mirror image of the identity matrix of n x n dimensions.. It does not matter if the mirror image is left-right or top-bottom.\n"
   ]
  },
  {
   "cell_type": "code",
   "execution_count": 2,
   "id": "63422e59",
   "metadata": {},
   "outputs": [
    {
     "name": "stdout",
     "output_type": "stream",
     "text": [
      "[[0 0 0 0 1]\n",
      " [0 0 0 1 0]\n",
      " [0 0 1 0 0]\n",
      " [0 1 0 0 0]\n",
      " [1 0 0 0 0]]\n"
     ]
    }
   ],
   "source": [
    "import numpy as np\n",
    "\n",
    "\n",
    "def identity(n):\n",
    "    mirror = n < 0 \n",
    "    n = abs(n)\n",
    "\n",
    "    m = np.matrix([\n",
    "            [1 if i == j else 0 for j in range(n)] for i in range(n)\n",
    "        ])\n",
    "\n",
    "\n",
    "    return m if not mirror else m[::-1]\n",
    "\n",
    "if __name__ == \"__main__\":\n",
    "    n = int(input(\"Enter order of matrix : \"))\n",
    "    print(identity(n))"
   ]
  },
  {
   "cell_type": "markdown",
   "id": "cf350979",
   "metadata": {},
   "source": [
    "2 a) Create a function that will recursively count the number of digits of a number. Conversion of the number to a string is not allowed, thus, the approach is recursive.\n",
    "Example\n",
    "digits_count(4666) ➞ 4\n",
    "digits_count(544) ➞ 3\n"
   ]
  },
  {
   "cell_type": "code",
   "execution_count": null,
   "id": "ccc55196",
   "metadata": {},
   "outputs": [],
   "source": [
    "def digit_count(n):\n",
    "    return 1 if n < 10 else digit_count(int(n / 10)) + 1\n",
    "\n",
    "n = int(input(\"Enter number : \"))\n",
    "print(f\"no of digits : {digit_count(n)}\")"
   ]
  },
  {
   "cell_type": "markdown",
   "id": "e882adaa",
   "metadata": {},
   "source": [
    "B) A prison can be represented as a list of cells. Each cell contains exactly one prisoner. A 1 represents an unlocked cell and a 0 represents a locked cell.\n",
    "[1, 1, 0, 0, 0, 1, 0]\n",
    "Starting inside the leftmost cell, you are tasked with seeing how many prisoners you can set free, with a catch. You are the prisoner in the first cell. If the first cell is locked, you cannot free anyone. Each time you free a prisoner, the locked cells become unlocked, and the unlocked cells become locked again.\n",
    "Create a function that, given this unique prison arrangement, returns the number of freed prisoners.\n",
    "freed_prisoners([1, 1, 0, 0, 0, 1, 0]) ➞ 4\n",
    "\n",
    "freed_prisoners([1, 1, 1]) ➞ 1\n",
    "\n",
    "freed_prisoners([0, 0, 0]) ➞ 0\n",
    "\n",
    "freed_prisoners([0, 1, 1, 1]) ➞ 0\n",
    "Hint:\n",
    "1. You are the prisoner in the first cell. You must be freed to free anyone else. 2. You must free a prisoner in order for the locks to switch. So in the second example where the input is [1, 1, 1] after you release the first prisoner, the locks change to [0, 0, 0]. Since all cells are locked, you can release no more prisoners.\n"
   ]
  },
  {
   "cell_type": "markdown",
   "id": "13c70d6e",
   "metadata": {},
   "source": []
  }
 ],
 "metadata": {
  "kernelspec": {
   "display_name": "Python 3.10.4 64-bit",
   "language": "python",
   "name": "python3"
  },
  "language_info": {
   "codemirror_mode": {
    "name": "ipython",
    "version": 3
   },
   "file_extension": ".py",
   "mimetype": "text/x-python",
   "name": "python",
   "nbconvert_exporter": "python",
   "pygments_lexer": "ipython3",
   "version": "3.10.4"
  },
  "vscode": {
   "interpreter": {
    "hash": "cd54ff46e4251fe0a46f903cca0c8aff900098562f2fe569ebafc85f4881e67a"
   }
  }
 },
 "nbformat": 4,
 "nbformat_minor": 5
}

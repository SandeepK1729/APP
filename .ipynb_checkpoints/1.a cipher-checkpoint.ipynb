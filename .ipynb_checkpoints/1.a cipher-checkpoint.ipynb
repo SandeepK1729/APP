{
 "cells": [
  {
   "cell_type": "markdown",
   "id": "a7c0d4fb",
   "metadata": {},
   "source": [
    "1. A) The Atbash cipher is an encryption method in which each letter of a word is replaced with its \"mirror\" letter in the alphabet: A <=> Z; B <=> Y; C <=> X; etc.\n",
    "\n",
    "Create a function that takes a string and applies the Atbash cipher to it.\n"
   ]
  },
  {
   "cell_type": "code",
   "execution_count": 28,
   "id": "b0dc98f3",
   "metadata": {},
   "outputs": [
    {
     "name": "stdout",
     "output_type": "stream",
     "text": [
      "Enter string : absd\n",
      "cipher string : ZYHW\n"
     ]
    }
   ],
   "source": [
    "def cipher(s):\n",
    "    return \"\".join(chr(155 - ord(c)) for c in s)\n",
    "\n",
    "s = input(\"Enter string : \").upper()\n",
    "\n",
    "print(f\"cipher string : {cipher(s)}\")"
   ]
  },
  {
   "cell_type": "markdown",
   "id": "e1d8316b",
   "metadata": {},
   "source": [
    "B) An identity matrix is defined as a square matrix with 1s running from the top left of the square to the bottom right. The rest are 0s. The identity matrix has applications ranging from machine learning to the general theory of relativity.\n",
    "\n",
    "Create a function that takes an integer n and returns the identity matrix of n x n dimensions. For this challenge, if the integer is negative, return the mirror image of the identity matrix of n x n dimensions.. It does not matter if the mirror image is left-right or top-bottom.\n"
   ]
  },
  {
   "cell_type": "code",
   "execution_count": 34,
   "id": "63422e59",
   "metadata": {},
   "outputs": [
    {
     "name": "stdout",
     "output_type": "stream",
     "text": [
      "Enter order of matrix : 3\n"
     ]
    },
    {
     "data": {
      "text/plain": [
       "[[1, 0, 0], [0, 1, 0], [0, 0, 1]]"
      ]
     },
     "execution_count": 34,
     "metadata": {},
     "output_type": "execute_result"
    }
   ],
   "source": [
    "import numpy as np\n",
    "\n",
    "\n",
    "n = int(input(\"Enter order of matrix : \"))\n",
    "\n",
    "if n > 0:\n",
    "    check = lambda (i, j) : i == j\n",
    "else:\n",
    "    n = abs(n)\n",
    "    check = lambda () : i + j == n - 1\n",
    "\n",
    "\n",
    "m = [\n",
    "        [\n",
    "            1 if check() else 0 for j in range(n)\n",
    "        ] for i in range(n)\n",
    "    ]\n",
    "\n",
    "\n",
    "m\n"
   ]
  },
  {
   "cell_type": "code",
   "execution_count": null,
   "id": "0562b878",
   "metadata": {},
   "outputs": [],
   "source": []
  }
 ],
 "metadata": {
  "kernelspec": {
   "display_name": "Python 3 (ipykernel)",
   "language": "python",
   "name": "python3"
  },
  "language_info": {
   "codemirror_mode": {
    "name": "ipython",
    "version": 3
   },
   "file_extension": ".py",
   "mimetype": "text/x-python",
   "name": "python",
   "nbconvert_exporter": "python",
   "pygments_lexer": "ipython3",
   "version": "3.10.4"
  }
 },
 "nbformat": 4,
 "nbformat_minor": 5
}
